{
  "nbformat": 4,
  "nbformat_minor": 0,
  "metadata": {
    "colab": {
      "provenance": [],
      "toc_visible": true,
      "authorship_tag": "ABX9TyNrPdFQgYV5mzFtGujzEE6+",
      "include_colab_link": true
    },
    "kernelspec": {
      "name": "python3",
      "display_name": "Python 3"
    },
    "language_info": {
      "name": "python"
    },
    "accelerator": "GPU",
    "gpuClass": "standard"
  },
  "cells": [
    {
      "cell_type": "markdown",
      "metadata": {
        "id": "view-in-github",
        "colab_type": "text"
      },
      "source": [
        "<a href=\"https://colab.research.google.com/github/realfolkcode/GraphDiffusionAnomaly/blob/main/notebooks/gda_benchmark.ipynb\" target=\"_parent\"><img src=\"https://colab.research.google.com/assets/colab-badge.svg\" alt=\"Open In Colab\"/></a>"
      ]
    },
    {
      "cell_type": "markdown",
      "source": [
        "# Anomaly Detection in Networks via Score-Based Generative Models\n",
        "\n",
        "[Paper](https://arxiv.org/abs/2306.15324) | [Github](https://github.com/realfolkcode/GraphDiffusionAnomaly)\n",
        "\n",
        "This notebook demonstrates how our paper can be reproduced. First, GDSS models are trained with randomly chosen hyperparameters. It uses *matrix distances* as a dissimilarity measure to calculate anomaly scores.\n",
        "\n",
        "**Remark:** We recommend to run this notebook in Google Colab. To run it locally, modify/append the paths to import our modules and do not clone the repository in the Setup section."
      ],
      "metadata": {
        "id": "Zx1Adw81Di17"
      }
    },
    {
      "cell_type": "markdown",
      "source": [
        "## Setup"
      ],
      "metadata": {
        "id": "cD-A67mrC0J1"
      }
    },
    {
      "cell_type": "code",
      "execution_count": null,
      "metadata": {
        "id": "KEfZetV31eEI"
      },
      "outputs": [],
      "source": [
        "!pip install  dgl -f https://data.dgl.ai/wheels/cu117/repo.html\n",
        "!pip install  dglgo -f https://data.dgl.ai/wheels-test/repo.html"
      ]
    },
    {
      "cell_type": "code",
      "source": [
        "!pip install torch_geometric\n",
        "!pip install pyg_lib torch_scatter torch_sparse torch_cluster torch_spline_conv -f https://data.pyg.org/whl/torch-2.0.0+cu118.html"
      ],
      "metadata": {
        "id": "C-r9IpVQ1nT_"
      },
      "execution_count": null,
      "outputs": []
    },
    {
      "cell_type": "code",
      "source": [
        "!git clone https://github.com/realfolkcode/GraphDiffusionAnomaly"
      ],
      "metadata": {
        "id": "i0N2ORLZ1ivh"
      },
      "execution_count": null,
      "outputs": []
    },
    {
      "cell_type": "code",
      "source": [
        "%cd GraphDiffusionAnomaly/"
      ],
      "metadata": {
        "id": "CfI7WGaU1kBT",
        "colab": {
          "base_uri": "https://localhost:8080/"
        },
        "outputId": "a745bdf8-35be-41dd-c1f5-40e0b32a7e63"
      },
      "execution_count": 5,
      "outputs": [
        {
          "output_type": "stream",
          "name": "stdout",
          "text": [
            "/content/GraphDiffusionAnomaly\n"
          ]
        }
      ]
    },
    {
      "cell_type": "code",
      "source": [
        "!python -m pip install -r requirements.txt"
      ],
      "metadata": {
        "id": "tWdshhYS1k8y"
      },
      "execution_count": null,
      "outputs": []
    },
    {
      "cell_type": "markdown",
      "source": [
        "## Training and Inference"
      ],
      "metadata": {
        "id": "SlRJVaOQDBav"
      }
    },
    {
      "cell_type": "markdown",
      "source": [
        "Restart the runtime"
      ],
      "metadata": {
        "id": "Xx1oRfBw3o9U"
      }
    },
    {
      "cell_type": "code",
      "source": [
        "%cd GraphDiffusionAnomaly"
      ],
      "metadata": {
        "colab": {
          "base_uri": "https://localhost:8080/"
        },
        "id": "66bnI72-3cPm",
        "outputId": "bad5286d-e53c-4634-c54c-294e9de53a9b"
      },
      "execution_count": 1,
      "outputs": [
        {
          "output_type": "stream",
          "name": "stdout",
          "text": [
            "/content/GraphDiffusionAnomaly\n"
          ]
        }
      ]
    },
    {
      "cell_type": "markdown",
      "source": [
        "Let us run the benchmark on the Disney dataset. To do this, we choose the corresponding config file and name our experiment (`exp_name`) after the dataset (checkpoints will be named accordingly)."
      ],
      "metadata": {
        "id": "nsObyK39Me8r"
      }
    },
    {
      "cell_type": "code",
      "source": [
        "!python run_benchmark.py --config GDSS/config/disney.yaml --exp_name disney --trajectory_sample 4 --num_sample 3 --radius 1"
      ],
      "metadata": {
        "id": "EM-rzVlx21Vr"
      },
      "execution_count": null,
      "outputs": []
    },
    {
      "cell_type": "markdown",
      "source": [
        "## Evaluation"
      ],
      "metadata": {
        "id": "4CIR32E9DGbq"
      }
    },
    {
      "cell_type": "code",
      "source": [
        "import numpy as np\n",
        "import torch\n",
        "import pygod\n",
        "from pygod.utils import load_data\n",
        "from pygod.metric.metric import *\n",
        "\n",
        "import matplotlib.pyplot as plt\n",
        "\n",
        "from utils import calculate_snr\n",
        "from GDSS.parsers.config import get_config"
      ],
      "metadata": {
        "id": "8hxBBDMno1gh"
      },
      "execution_count": 8,
      "outputs": []
    },
    {
      "cell_type": "code",
      "source": [
        "dataset_name = 'disney'\n",
        "\n",
        "y = load_data(dataset_name).y.bool()\n",
        "k = sum(y)"
      ],
      "metadata": {
        "id": "JENN6p8dt8T0"
      },
      "execution_count": 9,
      "outputs": []
    },
    {
      "cell_type": "code",
      "source": [
        "exp_name = f'{dataset_name}'"
      ],
      "metadata": {
        "id": "XY8jv5EduDyD"
      },
      "execution_count": 10,
      "outputs": []
    },
    {
      "cell_type": "markdown",
      "source": [
        "Unweighted anomaly scores"
      ],
      "metadata": {
        "id": "t65UIpyvRzqu"
      }
    },
    {
      "cell_type": "code",
      "source": [
        "auc, ap, rec = [], [], []\n",
        "\n",
        "for i in range(20):\n",
        "    with open(f'{exp_name}_{i}_final_scores.npy', 'rb') as f:\n",
        "        x_scores = np.load(f).sum(axis=-1)\n",
        "        adj_scores = np.load(f).sum(axis=-1)\n",
        "\n",
        "    for alpha in [0.2, 0.5, 0.8]:\n",
        "        score = (1 - alpha) * x_scores + alpha * adj_scores\n",
        "        score = torch.from_numpy(np.nan_to_num(score))\n",
        "        auc.append(eval_roc_auc(y, score))\n",
        "        ap.append(eval_average_precision(y, score))\n",
        "        rec.append(eval_recall_at_k(y, score, k))"
      ],
      "metadata": {
        "id": "Ei3JHid9t3cI"
      },
      "execution_count": 13,
      "outputs": []
    },
    {
      "cell_type": "code",
      "source": [
        "print(\"AUC: {:.4f}±{:.4f} ({:.4f})\\t\"\n",
        "      \"AP: {:.4f}±{:.4f} ({:.4f})\\t\"\n",
        "      \"Recall: {:.4f}±{:.4f} ({:.4f})\".format(np.mean(auc), np.std(auc),\n",
        "                                              np.max(auc), np.mean(ap),\n",
        "                                              np.std(ap), np.max(ap),\n",
        "                                              np.mean(rec), np.std(rec),\n",
        "                                              np.max(rec)))"
      ],
      "metadata": {
        "colab": {
          "base_uri": "https://localhost:8080/"
        },
        "id": "QfVs4ZgXuWIt",
        "outputId": "4c163fe7-c893-4c6e-f837-47d498758126"
      },
      "execution_count": 14,
      "outputs": [
        {
          "output_type": "stream",
          "name": "stdout",
          "text": [
            "AUC: 0.6514±0.1124 (0.7980)\tAP: 0.1445±0.0686 (0.3075)\tRecall: 0.1361±0.1198 (0.3333)\n"
          ]
        }
      ]
    },
    {
      "cell_type": "markdown",
      "source": [
        "SNR weighted anomaly scores"
      ],
      "metadata": {
        "id": "ROAAtaJDR8BQ"
      }
    },
    {
      "cell_type": "code",
      "source": [
        "auc, ap, rec = [], [], []\n",
        "\n",
        "trajectory_sample = 4\n",
        "T_lst = np.linspace(0, 1, trajectory_sample + 2, endpoint=True)[1:-1]\n",
        "config = get_config(f'GDSS/config/{dataset_name}.yaml', 0)\n",
        "time_penalties = np.sqrt(calculate_snr(T_lst, config.sde.x))\n",
        "print(T_lst)\n",
        "print(time_penalties)\n",
        "\n",
        "for i in range(20):\n",
        "    with open(f'{exp_name}_{i}_final_scores.npy', 'rb') as f:\n",
        "        x_scores = np.load(f)\n",
        "        adj_scores = np.load(f)\n",
        "        x_scores = np.dot(x_scores, time_penalties)\n",
        "        adj_scores = np.dot(adj_scores, time_penalties)\n",
        "\n",
        "    for alpha in [0.2, 0.5, 0.8]:\n",
        "        score = (1 - alpha) * x_scores + alpha * adj_scores\n",
        "        score = torch.from_numpy(np.nan_to_num(score))\n",
        "        auc.append(eval_roc_auc(y, score))\n",
        "        ap.append(eval_average_precision(y, score))\n",
        "        rec.append(eval_recall_at_k(y, score, k))"
      ],
      "metadata": {
        "colab": {
          "base_uri": "https://localhost:8080/"
        },
        "outputId": "d53d9b57-c3f5-44bf-f15c-913b7e7092cd",
        "id": "Y1WIn6J411Za"
      },
      "execution_count": 15,
      "outputs": [
        {
          "output_type": "stream",
          "name": "stdout",
          "text": [
            "[0.2 0.4 0.6 0.8]\n",
            "[5.08122887 2.90480548 2.00573859 1.49932927]\n"
          ]
        }
      ]
    },
    {
      "cell_type": "code",
      "source": [
        "print(\"AUC: {:.4f}±{:.4f} ({:.4f})\\t\"\n",
        "      \"AP: {:.4f}±{:.4f} ({:.4f})\\t\"\n",
        "      \"Recall: {:.4f}±{:.4f} ({:.4f})\".format(np.mean(auc), np.std(auc),\n",
        "                                              np.max(auc), np.mean(ap),\n",
        "                                              np.std(ap), np.max(ap),\n",
        "                                              np.mean(rec), np.std(rec),\n",
        "                                              np.max(rec)))"
      ],
      "metadata": {
        "colab": {
          "base_uri": "https://localhost:8080/"
        },
        "outputId": "143e1bb7-0142-4de3-fa66-5a0d5ac27385",
        "id": "PUadRwBH11Zd"
      },
      "execution_count": 16,
      "outputs": [
        {
          "output_type": "stream",
          "name": "stdout",
          "text": [
            "AUC: 0.6316±0.1194 (0.7811)\tAP: 0.1385±0.0650 (0.3355)\tRecall: 0.1306±0.1101 (0.3333)\n"
          ]
        }
      ]
    }
  ]
}